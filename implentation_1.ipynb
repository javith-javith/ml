{
  "nbformat": 4,
  "nbformat_minor": 0,
  "metadata": {
    "colab": {
      "provenance": []
    },
    "kernelspec": {
      "name": "python3",
      "display_name": "Python 3"
    },
    "language_info": {
      "name": "python"
    }
  },
  "cells": [
    {
      "cell_type": "code",
      "execution_count": null,
      "metadata": {
        "colab": {
          "base_uri": "https://localhost:8080/"
        },
        "id": "MD921uD9qreS",
        "outputId": "0d01e9f4-aa15-4d7f-e56a-627ae4719ca8"
      },
      "outputs": [
        {
          "output_type": "stream",
          "name": "stdout",
          "text": [
            "[0 0 1 1]\n"
          ]
        }
      ],
      "source": [
        "from sklearn import tree\n",
        "features=[[140,1],[130,1],[150,0],[170,0]]\n",
        "lables=[0,0,1,1]\n",
        "clf=tree.DecisionTreeClassifier()\n",
        "clf=clf.fit(features,lables)\n",
        "output=clf.predict([[130,1],[140,1],[150,1],[170,0]])\n",
        "print(output)"
      ]
    },
    {
      "cell_type": "code",
      "source": [
        "# load the iris dataset\n",
        "\n",
        "\n",
        "from sklearn.datasets import load_iris\n",
        "from sklearn.neighbors import KNeighborsClassifier\n",
        "from sklearn.model_selection import train_test_split\n",
        "from sklearn import metrics\n",
        "from sklearn.metrics import confusion_matrix\n",
        "\n",
        "\n",
        "iris_dataset=load_iris()\n",
        "\n",
        "x_train,x_test,y_train,y_test=train_test_split(iris_dataset['data'],iris_dataset['target'],random_state=0)\n",
        "print(\"x_train shape:\",x_train.shape)\n",
        "print(\"y_train shape:\",y_train.shape)\n",
        "knn=KNeighborsClassifier(n_neighbors=1)\n",
        "knn.fit(x_train,y_train)\n",
        "prediction=knn.predict([[4.5,1.2,1.3,1.9]])\n",
        "print(\"prediction:\",prediction)\n",
        "print(\"prediction target name:\",iris_dataset['target_names'][prediction])\n",
        "y_pred=knn.predict(x_test)\n",
        "print(\"test set prediction:\",y_pred)\n",
        "print(\"KNN (in%):\",metrics.accuracy_score(y_test,y_pred)*100)\n",
        "\n",
        "\n"
      ],
      "metadata": {
        "colab": {
          "base_uri": "https://localhost:8080/"
        },
        "id": "dyueSAW9vI6s",
        "outputId": "1e2dafad-fb62-4b7f-d694-a232a095788b"
      },
      "execution_count": null,
      "outputs": [
        {
          "output_type": "stream",
          "name": "stdout",
          "text": [
            "x_train shape: (112, 4)\n",
            "y_train shape: (112,)\n",
            "prediction: [0]\n",
            "prediction target name: ['setosa']\n",
            "test set prediction: [2 1 0 2 0 2 0 1 1 1 2 1 1 1 1 0 1 1 0 0 2 1 0 0 2 0 0 1 1 0 2 1 0 2 2 1 0\n",
            " 2]\n",
            "KNN (in%): 97.36842105263158\n"
          ]
        }
      ]
    }
  ]
}